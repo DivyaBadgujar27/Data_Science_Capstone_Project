{
 "cells": [
  {
   "cell_type": "markdown",
   "id": "fc2c3d8e-c628-4b30-bf6a-c7d638c20a47",
   "metadata": {},
   "source": [
    "# Final Conclusion\n",
    "\n",
    "In this notebook, we summarize the key findings from the SpaceX Falcon 9 Launch Success Prediction project, assess model performance, and discuss areas of improvement and future work."
   ]
  },
  {
   "cell_type": "markdown",
   "id": "3fdbf09f-4fa3-41d0-a1cc-088685c4140f",
   "metadata": {},
   "source": [
    "## Project Recap\n",
    "\n",
    "The objective of this project was to build a predictive model to classify whether a SpaceX Falcon 9 launch would be successful (`Class = 1`) or a failure (`Class = 0`).\n",
    "\n",
    "We performed:\n",
    "- Data Collection (Web Scraping from Wikipedia)\n",
    "- Data Wrangling and Cleaning\n",
    "- Exploratory Data Analysis (EDA)\n",
    "- SQL-based queries on launch metrics\n",
    "- Interactive map using Folium\n",
    "- Data Visualization with Plotly Dash\n",
    "- Predictive Modeling using Logistic Regression\n"
   ]
  },
  {
   "cell_type": "markdown",
   "id": "e6817d1f-9a8e-4018-a8ac-ca97c8f84a9e",
   "metadata": {},
   "source": [
    "## Model Performance Summary\n",
    "\n",
    "- We used **Logistic Regression** for classification.\n",
    "- Due to class imbalance, we used oversampling to balance the dataset.\n",
    "- Model Accuracy (on balanced test set): Reasonable\n",
    "- Key Metrics:\n",
    "  - Precision\n",
    "  - Recall\n",
    "  - F1-Score\n",
    "\n",
    "These metrics indicate the model can fairly distinguish between successful and failed launches."
   ]
  },
  {
   "cell_type": "markdown",
   "id": "2c48da21-4448-42b5-bcc2-5ea5eefdd5d3",
   "metadata": {},
   "source": [
    "## Key Insights from EDA\n",
    "\n",
    "- Most launches occurred from **KSC LC-39A** and **CCAFS SLC-40**.\n",
    "- Launches with **higher payload mass** were more successful.\n",
    "- Specific **booster versions** had higher success rates (e.g., `FT`, `Block 5`).\n",
    "- **Orbit type** also impacted launch outcomes (LEO & GTO had higher success).\n",
    "- The interactive map showed most failures clustered around initial years and early launch pads."
   ]
  },
  {
   "cell_type": "markdown",
   "id": "6520b724-2961-4f67-8c95-a1e75cf0f3d1",
   "metadata": {},
   "source": [
    "## Limitations and Opportunities for Improvement\n",
    "\n",
    "- The dataset is **small** and highly imbalanced — logistic regression struggles in such cases.\n",
    "- Feature engineering can be improved by:\n",
    "  - Adding launch year and weather conditions\n",
    "  - Incorporating booster reusability, landing success\n",
    "- Use of advanced models like **Random Forest**, **XGBoost**, or **Neural Networks** may improve results."
   ]
  },
  {
   "cell_type": "markdown",
   "id": "fee059cd-b406-47e7-91de-584206cca868",
   "metadata": {},
   "source": [
    "## Final Thoughts\n",
    "\n",
    "This project demonstrated the end-to-end workflow of a data science problem:\n",
    "- Data Collection\n",
    "- Cleaning & Wrangling\n",
    "- Visualization\n",
    "- SQL Analysis\n",
    "- Model Building\n",
    "- Interactive Dashboard\n",
    "\n",
    "With further improvements and more data, the model can be deployed to assist SpaceX with **launch success prediction** and decision-making.\n",
    "\n",
    "Thank you!"
   ]
  },
  {
   "cell_type": "code",
   "execution_count": null,
   "id": "3afffaff-a6e6-4c7d-98dd-32b7c113cbdf",
   "metadata": {},
   "outputs": [],
   "source": []
  }
 ],
 "metadata": {
  "kernelspec": {
   "display_name": "Python 3 (ipykernel)",
   "language": "python",
   "name": "python3"
  },
  "language_info": {
   "codemirror_mode": {
    "name": "ipython",
    "version": 3
   },
   "file_extension": ".py",
   "mimetype": "text/x-python",
   "name": "python",
   "nbconvert_exporter": "python",
   "pygments_lexer": "ipython3",
   "version": "3.11.7"
  }
 },
 "nbformat": 4,
 "nbformat_minor": 5
}
