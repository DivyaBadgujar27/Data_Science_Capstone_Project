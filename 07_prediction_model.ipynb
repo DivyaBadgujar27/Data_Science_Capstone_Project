{
 "cells": [
  {
   "cell_type": "markdown",
   "id": "9841f7d6-90a8-4de0-9a88-8d02b850a2e8",
   "metadata": {},
   "source": [
    "# Launch Success Prediction Using Machine Learning\n",
    "\n",
    "This notebook uses classification algorithms to predict Falcon 9 launch success using features like PayloadMass, Orbit, and Booster Version."
   ]
  },
  {
   "cell_type": "markdown",
   "id": "a26d8beb-becf-4a9d-a21c-e2f02e450a45",
   "metadata": {},
   "source": [
    "# Model Training and Prediction\n",
    "\n",
    "In this notebook, we train a Logistic Regression model to predict SpaceX Falcon 9 launch success using features such as payload mass, booster version, and orbit type. We also address class imbalance and evaluate the model's performance."
   ]
  },
  {
   "cell_type": "code",
   "execution_count": 12,
   "id": "e5014547-e87a-46e6-9187-c8694f1835bf",
   "metadata": {},
   "outputs": [],
   "source": [
    "import pandas as pd\n",
    "from sklearn.model_selection import train_test_split\n",
    "from sklearn.preprocessing import StandardScaler\n",
    "from sklearn.linear_model import LogisticRegression\n",
    "from sklearn.metrics import classification_report, confusion_matrix"
   ]
  },
  {
   "cell_type": "code",
   "execution_count": 13,
   "id": "9c91be86-c3d1-46ba-8ed1-a034dc524f04",
   "metadata": {},
   "outputs": [
    {
     "name": "stdout",
     "output_type": "stream",
     "text": [
      "Original class distribution:\n",
      "Class\n",
      "1    100\n",
      "0      1\n",
      "Name: count, dtype: int64\n"
     ]
    }
   ],
   "source": [
    "df = pd.read_csv(r'C:\\Users\\user\\Downloads\\falcon9_cleaned.csv')\n",
    "print(\"Original class distribution:\")\n",
    "print(df['Class'].value_counts())"
   ]
  },
  {
   "cell_type": "markdown",
   "id": "38b5f875-92dd-491d-b125-1fd7cb67d9c6",
   "metadata": {},
   "source": [
    "## Balancing the Dataset\n",
    "\n",
    "The dataset is highly imbalanced with very few failed launches. To train a fair model, we need to balance the data. We duplicate failure cases and sample an equal number of success cases."
   ]
  },
  {
   "cell_type": "code",
   "execution_count": 14,
   "id": "8839ab29-6438-43d0-afe7-59874f7c2dfe",
   "metadata": {},
   "outputs": [
    {
     "name": "stdout",
     "output_type": "stream",
     "text": [
      "Balanced class distribution:\n",
      "Class\n",
      "1    10\n",
      "0    10\n",
      "Name: count, dtype: int64\n"
     ]
    }
   ],
   "source": [
    "# Separate classes\n",
    "fail_df = df[df['Class'] == 0]\n",
    "success_df = df[df['Class'] == 1]\n",
    "\n",
    "# Duplicate failure rows (10 times for balancing)\n",
    "fail_df = pd.concat([fail_df]*10, ignore_index=True)\n",
    "\n",
    "# Sample equal number of success rows\n",
    "success_sample = success_df.sample(n=len(fail_df), random_state=42)\n",
    "\n",
    "# Combine and shuffle\n",
    "balanced_df = pd.concat([success_sample, fail_df]).sample(frac=1, random_state=42)\n",
    "\n",
    "# Check new class distribution\n",
    "print(\"Balanced class distribution:\")\n",
    "print(balanced_df['Class'].value_counts())"
   ]
  },
  {
   "cell_type": "markdown",
   "id": "88889011-fd1c-449b-be46-3b3e1e671604",
   "metadata": {},
   "source": [
    "## Feature Engineering\n",
    "\n",
    "We use the payload mass, orbit type, and booster version as features. Categorical features are converted into numerical format using one-hot encoding."
   ]
  },
  {
   "cell_type": "code",
   "execution_count": 15,
   "id": "01b016ff-8d00-413e-acd5-caa936d5686f",
   "metadata": {},
   "outputs": [],
   "source": [
    "features = balanced_df[['PayloadMass', 'Orbit', 'Booster_Version']]\n",
    "X = pd.get_dummies(features)  # One-hot encode categorical features\n",
    "y = balanced_df['Class']"
   ]
  },
  {
   "cell_type": "markdown",
   "id": "6a4b7d2c-5a59-47d1-aed3-1099b8df253d",
   "metadata": {},
   "source": [
    "## Train-Test Split\n",
    "\n",
    "We split the data into training and testing sets to evaluate model performance."
   ]
  },
  {
   "cell_type": "code",
   "execution_count": 16,
   "id": "a822992f-3209-400b-8266-7513011b4cee",
   "metadata": {},
   "outputs": [],
   "source": [
    "X_train, X_test, y_train, y_test = train_test_split(\n",
    "    X, y, test_size=0.2, random_state=42\n",
    ")"
   ]
  },
  {
   "cell_type": "markdown",
   "id": "ada25290-9866-40b0-b74a-1bdd6bef1916",
   "metadata": {},
   "source": [
    "## Feature Scaling\n",
    "\n",
    "To improve model convergence, we scale the numeric features using `StandardScaler`."
   ]
  },
  {
   "cell_type": "code",
   "execution_count": 17,
   "id": "f88ba94e-91d3-4333-bde5-60f4348f40a0",
   "metadata": {},
   "outputs": [],
   "source": [
    "scaler = StandardScaler()\n",
    "X_train_scaled = scaler.fit_transform(X_train)\n",
    "X_test_scaled = scaler.transform(X_test)"
   ]
  },
  {
   "cell_type": "code",
   "execution_count": 18,
   "id": "077f8698-5977-4383-a2d4-63db7e14abed",
   "metadata": {},
   "outputs": [],
   "source": [
    "model = LogisticRegression()\n",
    "model.fit(X_train_scaled, y_train)\n",
    "\n",
    "y_pred = model.predict(X_test_scaled)"
   ]
  },
  {
   "cell_type": "markdown",
   "id": "0867b7f9-d7dd-4653-9c14-a57105d38f1e",
   "metadata": {},
   "source": [
    "## Model Evaluation\n",
    "\n",
    "We evaluate the model using a confusion matrix and classification report."
   ]
  },
  {
   "cell_type": "code",
   "execution_count": 19,
   "id": "3495a454-f6c1-49d9-8592-9eb21ec480af",
   "metadata": {},
   "outputs": [
    {
     "name": "stdout",
     "output_type": "stream",
     "text": [
      "Confusion Matrix:\n",
      " [[3 0]\n",
      " [0 1]]\n",
      "\n",
      "Classification Report:\n",
      "               precision    recall  f1-score   support\n",
      "\n",
      "           0       1.00      1.00      1.00         3\n",
      "           1       1.00      1.00      1.00         1\n",
      "\n",
      "    accuracy                           1.00         4\n",
      "   macro avg       1.00      1.00      1.00         4\n",
      "weighted avg       1.00      1.00      1.00         4\n",
      "\n"
     ]
    }
   ],
   "source": [
    "print(\"Confusion Matrix:\\n\", confusion_matrix(y_test, y_pred))\n",
    "print(\"\\nClassification Report:\\n\", classification_report(y_test, y_pred))"
   ]
  },
  {
   "cell_type": "markdown",
   "id": "9621a94a-5f14-48e5-b979-3f5a8b47b2cc",
   "metadata": {},
   "source": [
    "### Summary\n",
    "\n",
    "The logistic regression model was trained on a balanced dataset. The evaluation metrics suggest it can reasonably distinguish between successful and failed launches. More complex models can be explored for improved accuracy."
   ]
  },
  {
   "cell_type": "code",
   "execution_count": null,
   "id": "f4699e5c-29bf-4077-a0f7-d0de9e8778cf",
   "metadata": {},
   "outputs": [],
   "source": []
  }
 ],
 "metadata": {
  "kernelspec": {
   "display_name": "Python 3 (ipykernel)",
   "language": "python",
   "name": "python3"
  },
  "language_info": {
   "codemirror_mode": {
    "name": "ipython",
    "version": 3
   },
   "file_extension": ".py",
   "mimetype": "text/x-python",
   "name": "python",
   "nbconvert_exporter": "python",
   "pygments_lexer": "ipython3",
   "version": "3.11.7"
  }
 },
 "nbformat": 4,
 "nbformat_minor": 5
}
