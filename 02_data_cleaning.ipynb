{
 "cells": [
  {
   "cell_type": "code",
   "execution_count": 3,
   "id": "c946846a-563c-45ab-9140-0992ffc514e3",
   "metadata": {},
   "outputs": [
    {
     "name": "stdout",
     "output_type": "stream",
     "text": [
      "        Date Booster_Version  Launch_Site  \\\n",
      "0 2010-06-04  F9 v1.0  B0003  CCAFS LC-40   \n",
      "1 2010-12-08  F9 v1.0  B0004  CCAFS LC-40   \n",
      "2 2012-05-22  F9 v1.0  B0005  CCAFS LC-40   \n",
      "3 2012-10-08  F9 v1.0  B0006  CCAFS LC-40   \n",
      "4 2013-03-01  F9 v1.0  B0007  CCAFS LC-40   \n",
      "\n",
      "                                             Payload  PayloadMass      Orbit  \\\n",
      "0               Dragon Spacecraft Qualification Unit            0        LEO   \n",
      "1  Dragon demo flight C1, two CubeSats, barrel of...            0  LEO (ISS)   \n",
      "2                              Dragon demo flight C2          525  LEO (ISS)   \n",
      "3                                       SpaceX CRS-1          500  LEO (ISS)   \n",
      "4                                       SpaceX CRS-2          677  LEO (ISS)   \n",
      "\n",
      "          Customer  Outcome      Landing_Outcome  Class  \n",
      "0           SpaceX  Success  Failure (parachute)      1  \n",
      "1  NASA (COTS) NRO  Success  Failure (parachute)      1  \n",
      "2      NASA (COTS)  Success           No attempt      1  \n",
      "3       NASA (CRS)  Success           No attempt      1  \n",
      "4       NASA (CRS)  Success           No attempt      1  \n",
      "Cleaned file saved successfully!\n"
     ]
    }
   ],
   "source": [
    "import pandas as pd\n",
    "\n",
    "# Step 1: Load the CSV file from Downloads folder\n",
    "df = pd.read_csv(r'C:\\Users\\user\\Downloads\\Spacex.csv')\n",
    "\n",
    "# Step 2: Rename column for consistency\n",
    "df.rename(columns={\n",
    "    'PAYLOAD_MASS__KG_': 'PayloadMass',\n",
    "    'Mission_Outcome': 'Outcome'\n",
    "}, inplace=True)\n",
    "\n",
    "# Step 3: Drop unneeded 'Time (UTC)' column\n",
    "df.drop(columns=['Time (UTC)'], inplace=True)\n",
    "\n",
    "# Step 4: Convert 'Date' to datetime format\n",
    "df['Date'] = pd.to_datetime(df['Date'])\n",
    "\n",
    "# Step 5: Strip whitespace from all string/object columns\n",
    "for col in df.select_dtypes(include='object'):\n",
    "    df[col] = df[col].str.strip()\n",
    "\n",
    "# Step 6: Create target column 'Class'\n",
    "df['Class'] = df['Outcome'].apply(lambda x: 1 if 'Success' in x else 0)\n",
    "\n",
    "# Step 7: Drop rows with missing values in key columns\n",
    "df.dropna(subset=['Date', 'PayloadMass', 'Launch_Site', 'Orbit', 'Outcome'], inplace=True)\n",
    "\n",
    "# Step 8: Reset index and preview cleaned data\n",
    "df.reset_index(drop=True, inplace=True)\n",
    "print(df.head())\n",
    "\n",
    "# Step 9: Save cleaned data\n",
    "df.to_csv(r'C:\\Users\\user\\Downloads\\falcon9_cleaned.csv', index=False)\n",
    "print(\"Cleaned file saved successfully!\")\n"
   ]
  },
  {
   "cell_type": "code",
   "execution_count": null,
   "id": "958496ba-53aa-42c0-869d-055b9dc9bb08",
   "metadata": {},
   "outputs": [],
   "source": []
  }
 ],
 "metadata": {
  "kernelspec": {
   "display_name": "Python 3 (ipykernel)",
   "language": "python",
   "name": "python3"
  },
  "language_info": {
   "codemirror_mode": {
    "name": "ipython",
    "version": 3
   },
   "file_extension": ".py",
   "mimetype": "text/x-python",
   "name": "python",
   "nbconvert_exporter": "python",
   "pygments_lexer": "ipython3",
   "version": "3.11.7"
  }
 },
 "nbformat": 4,
 "nbformat_minor": 5
}
